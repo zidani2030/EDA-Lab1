{
 "cells": [
  {
   "cell_type": "markdown",
   "id": "through-estimate",
   "metadata": {},
   "source": [
    "### Choose a dataset to Visulaize\n",
    "* Import needed libraries \n",
    "* Load your own dataset"
   ]
  },
  {
   "cell_type": "code",
   "execution_count": null,
   "id": "objective-zealand",
   "metadata": {},
   "outputs": [],
   "source": []
  },
  {
   "cell_type": "markdown",
   "id": "4315312d",
   "metadata": {},
   "source": [
    "### Descriptive Analysis\n",
    "* Write the codes for summarizing the dataset (head, tail, shape, describe, info, etc).\n",
    "* Write your findings of the summarizations (write at least 10 findings)."
   ]
  },
  {
   "cell_type": "code",
   "execution_count": null,
   "id": "69d38288",
   "metadata": {},
   "outputs": [],
   "source": []
  },
  {
   "cell_type": "markdown",
   "id": "valued-proof",
   "metadata": {},
   "source": [
    "### Univariate Visualization\n",
    "* Plot two Charts\n",
    "* Provide each charts with at least two insights "
   ]
  },
  {
   "cell_type": "code",
   "execution_count": null,
   "id": "anticipated-soldier",
   "metadata": {},
   "outputs": [],
   "source": []
  },
  {
   "cell_type": "markdown",
   "id": "quantitative-water",
   "metadata": {},
   "source": [
    "#### Write your insghts here"
   ]
  },
  {
   "cell_type": "code",
   "execution_count": null,
   "id": "german-owner",
   "metadata": {},
   "outputs": [],
   "source": []
  },
  {
   "cell_type": "markdown",
   "id": "developing-bandwidth",
   "metadata": {},
   "source": [
    "#### Write your insghts here"
   ]
  },
  {
   "cell_type": "code",
   "execution_count": null,
   "id": "5e68e79d",
   "metadata": {},
   "outputs": [],
   "source": []
  },
  {
   "cell_type": "markdown",
   "id": "sound-copper",
   "metadata": {},
   "source": [
    "### Bivariate Visualization \n",
    "* Plot two Charts\n",
    "* Provide each charts with at least two insights "
   ]
  },
  {
   "cell_type": "code",
   "execution_count": null,
   "id": "surface-visiting",
   "metadata": {},
   "outputs": [],
   "source": []
  },
  {
   "cell_type": "markdown",
   "id": "rotary-following",
   "metadata": {},
   "source": [
    "#### Write your insghts here"
   ]
  },
  {
   "cell_type": "code",
   "execution_count": null,
   "id": "outer-grave",
   "metadata": {},
   "outputs": [],
   "source": []
  },
  {
   "cell_type": "markdown",
   "id": "future-driving",
   "metadata": {},
   "source": [
    "#### Write your insghts here"
   ]
  },
  {
   "cell_type": "code",
   "execution_count": null,
   "id": "sapphire-catalog",
   "metadata": {},
   "outputs": [],
   "source": []
  },
  {
   "cell_type": "markdown",
   "id": "mysterious-development",
   "metadata": {},
   "source": [
    "### Multivariate Visualization \n",
    "* Plot two Charts\n",
    "* Provide each charts with at least two insights "
   ]
  },
  {
   "cell_type": "code",
   "execution_count": null,
   "id": "dedicated-surprise",
   "metadata": {},
   "outputs": [],
   "source": []
  },
  {
   "cell_type": "markdown",
   "id": "complete-vegetarian",
   "metadata": {},
   "source": [
    "#### Write your insghts here"
   ]
  },
  {
   "cell_type": "code",
   "execution_count": null,
   "id": "resistant-things",
   "metadata": {},
   "outputs": [],
   "source": []
  },
  {
   "cell_type": "markdown",
   "id": "arranged-sheet",
   "metadata": {},
   "source": [
    "#### Write your insghts here"
   ]
  },
  {
   "cell_type": "code",
   "execution_count": null,
   "id": "8650732a",
   "metadata": {},
   "outputs": [],
   "source": []
  }
 ],
 "metadata": {
  "kernelspec": {
   "display_name": "Python 3 (ipykernel)",
   "language": "python",
   "name": "python3"
  },
  "language_info": {
   "codemirror_mode": {
    "name": "ipython",
    "version": 3
   },
   "file_extension": ".py",
   "mimetype": "text/x-python",
   "name": "python",
   "nbconvert_exporter": "python",
   "pygments_lexer": "ipython3",
   "version": "3.9.12"
  }
 },
 "nbformat": 4,
 "nbformat_minor": 5
}
